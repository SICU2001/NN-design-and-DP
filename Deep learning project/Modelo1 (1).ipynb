{
  "nbformat": 4,
  "nbformat_minor": 0,
  "metadata": {
    "colab": {
      "provenance": [],
      "collapsed_sections": []
    },
    "kernelspec": {
      "display_name": "Python 3",
      "language": "python",
      "name": "python3"
    },
    "language_info": {
      "codemirror_mode": {
        "name": "ipython",
        "version": 3
      },
      "file_extension": ".py",
      "mimetype": "text/x-python",
      "name": "python",
      "nbconvert_exporter": "python",
      "pygments_lexer": "ipython3",
      "version": "3.7.0"
    },
    "accelerator": "GPU"
  },
  "cells": [
    {
      "cell_type": "markdown",
      "metadata": {
        "id": "F0qXoBjOb81A"
      },
      "source": [
        "# Modelo 1\n",
        "Sofía Ingigerth Cañas Urbina A01173828"
      ]
    },
    {
      "cell_type": "markdown",
      "metadata": {
        "id": "E0nLYuZvb81B"
      },
      "source": [
        "## Setup"
      ]
    },
    {
      "cell_type": "code",
      "metadata": {
        "id": "Ztow5ACcb81C"
      },
      "source": [
        "import numpy as np\n",
        "from tensorflow import keras\n",
        "from tensorflow.keras import layers\n",
        "import matplotlib.pyplot as plt"
      ],
      "execution_count": 62,
      "outputs": []
    },
    {
      "cell_type": "markdown",
      "metadata": {
        "id": "XBV3DU8Bb81E"
      },
      "source": [
        "## Prepare the data"
      ]
    },
    {
      "cell_type": "code",
      "metadata": {
        "id": "UZK8ebltb81E",
        "colab": {
          "base_uri": "https://localhost:8080/"
        },
        "outputId": "1fb5e494-8f1d-4cf2-a234-83fc0000f815"
      },
      "source": [
        "# Model / data parameters\n",
        "num_classes = 10\n",
        "input_shape = (28, 28, 1)\n",
        "\n",
        "# the data, split between train and test sets\n",
        "(x_train, y_train), (x_test, y_test) = keras.datasets.fashion_mnist.load_data()\n",
        "\n",
        "# Scale images to the [0, 1] range\n",
        "x_train = x_train.astype(\"float32\") / 255\n",
        "x_test = x_test.astype(\"float32\") / 255\n",
        "# Make sure images have shape (28, 28, 1)\n",
        "x_train = np.expand_dims(x_train, -1)\n",
        "x_test = np.expand_dims(x_test, -1)\n",
        "print(\"x_train shape:\", x_train.shape)\n",
        "print(x_train.shape[0], \"train samples\")\n",
        "print(x_test.shape[0], \"test samples\")\n",
        "\n",
        "\n",
        "# convert class vectors to binary class matrices\n",
        "y_train = keras.utils.to_categorical(y_train, num_classes)\n",
        "y_test = keras.utils.to_categorical(y_test, num_classes)"
      ],
      "execution_count": 63,
      "outputs": [
        {
          "output_type": "stream",
          "name": "stdout",
          "text": [
            "x_train shape: (60000, 28, 28, 1)\n",
            "60000 train samples\n",
            "10000 test samples\n"
          ]
        }
      ]
    },
    {
      "cell_type": "markdown",
      "metadata": {
        "id": "2lYUY_3Ob81F"
      },
      "source": [
        "## Build the model"
      ]
    },
    {
      "cell_type": "code",
      "metadata": {
        "id": "zQkiI1p5b81F"
      },
      "source": [
        "model = keras.Sequential([\n",
        "        keras.Input(shape=input_shape),\n",
        "        layers.Conv2D(32, kernel_size=(3, 3), activation=\"relu\"),\n",
        "        layers.BatchNormalization(),\n",
        "        layers.Dropout(0.1),\n",
        "        layers.MaxPooling2D(pool_size=(2, 2)),\n",
        "        layers.Conv2D(64, kernel_size=(3, 3), activation=\"relu\"),\n",
        "        layers.BatchNormalization(),\n",
        "        layers.Dropout(0.1),\n",
        "        layers.MaxPooling2D(pool_size=(2, 2)),\n",
        "        layers.Flatten(),\n",
        "        layers.Dropout(0.5),\n",
        "        layers.Dense(num_classes, activation=\"softmax\")])"
      ],
      "execution_count": 72,
      "outputs": []
    },
    {
      "cell_type": "markdown",
      "metadata": {
        "id": "s5V4tXZ9b81G"
      },
      "source": [
        "## Train the model"
      ]
    },
    {
      "cell_type": "code",
      "metadata": {
        "id": "fkSj-HQ_b81G",
        "colab": {
          "base_uri": "https://localhost:8080/"
        },
        "outputId": "cddf8e51-9dba-4ba9-fee6-d38825522e8e"
      },
      "source": [
        "batch_size = 128\n",
        "epochs = 120\n",
        "\n",
        "opt = keras.optimizers.Adam(learning_rate=0.001)\n",
        "model.compile(loss=\"categorical_crossentropy\", optimizer=opt, metrics=[\"accuracy\"])\n",
        "\n",
        "H = model.fit(x_train, y_train, batch_size=batch_size, epochs=epochs, validation_split=0.1)"
      ],
      "execution_count": 65,
      "outputs": [
        {
          "output_type": "stream",
          "name": "stdout",
          "text": [
            "Epoch 1/120\n",
            "422/422 [==============================] - 4s 7ms/step - loss: 0.7062 - accuracy: 0.7754 - val_loss: 0.9212 - val_accuracy: 0.7080\n",
            "Epoch 2/120\n",
            "422/422 [==============================] - 3s 7ms/step - loss: 0.4282 - accuracy: 0.8495 - val_loss: 0.3256 - val_accuracy: 0.8823\n",
            "Epoch 3/120\n",
            "422/422 [==============================] - 3s 7ms/step - loss: 0.3764 - accuracy: 0.8664 - val_loss: 0.3102 - val_accuracy: 0.8875\n",
            "Epoch 4/120\n",
            "422/422 [==============================] - 3s 7ms/step - loss: 0.3545 - accuracy: 0.8732 - val_loss: 0.2928 - val_accuracy: 0.8947\n",
            "Epoch 5/120\n",
            "422/422 [==============================] - 3s 7ms/step - loss: 0.3297 - accuracy: 0.8831 - val_loss: 0.2906 - val_accuracy: 0.8920\n",
            "Epoch 6/120\n",
            "422/422 [==============================] - 3s 7ms/step - loss: 0.3142 - accuracy: 0.8855 - val_loss: 0.2738 - val_accuracy: 0.9030\n",
            "Epoch 7/120\n",
            "422/422 [==============================] - 3s 7ms/step - loss: 0.3092 - accuracy: 0.8879 - val_loss: 0.2655 - val_accuracy: 0.9050\n",
            "Epoch 8/120\n",
            "422/422 [==============================] - 3s 7ms/step - loss: 0.2960 - accuracy: 0.8914 - val_loss: 0.2715 - val_accuracy: 0.9027\n",
            "Epoch 9/120\n",
            "422/422 [==============================] - 3s 7ms/step - loss: 0.2911 - accuracy: 0.8943 - val_loss: 0.2851 - val_accuracy: 0.8980\n",
            "Epoch 10/120\n",
            "422/422 [==============================] - 3s 7ms/step - loss: 0.2813 - accuracy: 0.8979 - val_loss: 0.2575 - val_accuracy: 0.9080\n",
            "Epoch 11/120\n",
            "422/422 [==============================] - 3s 7ms/step - loss: 0.2767 - accuracy: 0.8999 - val_loss: 0.2614 - val_accuracy: 0.9078\n",
            "Epoch 12/120\n",
            "422/422 [==============================] - 3s 7ms/step - loss: 0.2713 - accuracy: 0.9009 - val_loss: 0.2606 - val_accuracy: 0.9082\n",
            "Epoch 13/120\n",
            "422/422 [==============================] - 3s 7ms/step - loss: 0.2664 - accuracy: 0.9026 - val_loss: 0.3017 - val_accuracy: 0.8922\n",
            "Epoch 14/120\n",
            "422/422 [==============================] - 3s 7ms/step - loss: 0.2617 - accuracy: 0.9037 - val_loss: 0.2390 - val_accuracy: 0.9130\n",
            "Epoch 15/120\n",
            "422/422 [==============================] - 3s 7ms/step - loss: 0.2596 - accuracy: 0.9066 - val_loss: 0.2501 - val_accuracy: 0.9110\n",
            "Epoch 16/120\n",
            "422/422 [==============================] - 3s 7ms/step - loss: 0.2565 - accuracy: 0.9067 - val_loss: 0.2422 - val_accuracy: 0.9132\n",
            "Epoch 17/120\n",
            "422/422 [==============================] - 3s 7ms/step - loss: 0.2518 - accuracy: 0.9079 - val_loss: 0.2641 - val_accuracy: 0.9055\n",
            "Epoch 18/120\n",
            "422/422 [==============================] - 3s 7ms/step - loss: 0.2485 - accuracy: 0.9097 - val_loss: 0.2486 - val_accuracy: 0.9102\n",
            "Epoch 19/120\n",
            "422/422 [==============================] - 3s 7ms/step - loss: 0.2462 - accuracy: 0.9099 - val_loss: 0.2606 - val_accuracy: 0.9098\n",
            "Epoch 20/120\n",
            "422/422 [==============================] - 3s 7ms/step - loss: 0.2422 - accuracy: 0.9107 - val_loss: 0.2503 - val_accuracy: 0.9105\n",
            "Epoch 21/120\n",
            "422/422 [==============================] - 3s 7ms/step - loss: 0.2399 - accuracy: 0.9106 - val_loss: 0.2280 - val_accuracy: 0.9198\n",
            "Epoch 22/120\n",
            "422/422 [==============================] - 3s 7ms/step - loss: 0.2347 - accuracy: 0.9138 - val_loss: 0.2448 - val_accuracy: 0.9128\n",
            "Epoch 23/120\n",
            "422/422 [==============================] - 3s 7ms/step - loss: 0.2378 - accuracy: 0.9125 - val_loss: 0.2240 - val_accuracy: 0.9203\n",
            "Epoch 24/120\n",
            "422/422 [==============================] - 3s 7ms/step - loss: 0.2319 - accuracy: 0.9143 - val_loss: 0.2436 - val_accuracy: 0.9152\n",
            "Epoch 25/120\n",
            "422/422 [==============================] - 3s 7ms/step - loss: 0.2324 - accuracy: 0.9135 - val_loss: 0.2310 - val_accuracy: 0.9175\n",
            "Epoch 26/120\n",
            "422/422 [==============================] - 3s 7ms/step - loss: 0.2264 - accuracy: 0.9170 - val_loss: 0.2302 - val_accuracy: 0.9180\n",
            "Epoch 27/120\n",
            "422/422 [==============================] - 3s 7ms/step - loss: 0.2266 - accuracy: 0.9175 - val_loss: 0.2357 - val_accuracy: 0.9138\n",
            "Epoch 28/120\n",
            "422/422 [==============================] - 3s 7ms/step - loss: 0.2260 - accuracy: 0.9168 - val_loss: 0.2629 - val_accuracy: 0.9000\n",
            "Epoch 29/120\n",
            "422/422 [==============================] - 3s 7ms/step - loss: 0.2229 - accuracy: 0.9181 - val_loss: 0.2333 - val_accuracy: 0.9168\n",
            "Epoch 30/120\n",
            "422/422 [==============================] - 3s 7ms/step - loss: 0.2182 - accuracy: 0.9193 - val_loss: 0.3000 - val_accuracy: 0.9012\n",
            "Epoch 31/120\n",
            "422/422 [==============================] - 3s 7ms/step - loss: 0.2227 - accuracy: 0.9182 - val_loss: 0.2201 - val_accuracy: 0.9210\n",
            "Epoch 32/120\n",
            "422/422 [==============================] - 3s 7ms/step - loss: 0.2186 - accuracy: 0.9188 - val_loss: 0.2570 - val_accuracy: 0.9110\n",
            "Epoch 33/120\n",
            "422/422 [==============================] - 3s 7ms/step - loss: 0.2163 - accuracy: 0.9206 - val_loss: 0.2443 - val_accuracy: 0.9130\n",
            "Epoch 34/120\n",
            "422/422 [==============================] - 3s 7ms/step - loss: 0.2182 - accuracy: 0.9189 - val_loss: 0.2248 - val_accuracy: 0.9190\n",
            "Epoch 35/120\n",
            "422/422 [==============================] - 3s 7ms/step - loss: 0.2168 - accuracy: 0.9194 - val_loss: 0.2172 - val_accuracy: 0.9200\n",
            "Epoch 36/120\n",
            "422/422 [==============================] - 3s 7ms/step - loss: 0.2106 - accuracy: 0.9222 - val_loss: 0.2329 - val_accuracy: 0.9155\n",
            "Epoch 37/120\n",
            "422/422 [==============================] - 3s 7ms/step - loss: 0.2111 - accuracy: 0.9218 - val_loss: 0.2626 - val_accuracy: 0.9097\n",
            "Epoch 38/120\n",
            "422/422 [==============================] - 3s 7ms/step - loss: 0.2113 - accuracy: 0.9219 - val_loss: 0.2434 - val_accuracy: 0.9152\n",
            "Epoch 39/120\n",
            "422/422 [==============================] - 3s 7ms/step - loss: 0.2112 - accuracy: 0.9213 - val_loss: 0.2296 - val_accuracy: 0.9143\n",
            "Epoch 40/120\n",
            "422/422 [==============================] - 3s 7ms/step - loss: 0.2060 - accuracy: 0.9240 - val_loss: 0.2182 - val_accuracy: 0.9213\n",
            "Epoch 41/120\n",
            "422/422 [==============================] - 3s 7ms/step - loss: 0.2058 - accuracy: 0.9244 - val_loss: 0.2158 - val_accuracy: 0.9215\n",
            "Epoch 42/120\n",
            "422/422 [==============================] - 3s 7ms/step - loss: 0.2050 - accuracy: 0.9237 - val_loss: 0.2235 - val_accuracy: 0.9205\n",
            "Epoch 43/120\n",
            "422/422 [==============================] - 3s 7ms/step - loss: 0.2058 - accuracy: 0.9242 - val_loss: 0.2333 - val_accuracy: 0.9155\n",
            "Epoch 44/120\n",
            "422/422 [==============================] - 3s 7ms/step - loss: 0.2031 - accuracy: 0.9250 - val_loss: 0.2133 - val_accuracy: 0.9222\n",
            "Epoch 45/120\n",
            "422/422 [==============================] - 3s 7ms/step - loss: 0.2014 - accuracy: 0.9255 - val_loss: 0.2583 - val_accuracy: 0.9118\n",
            "Epoch 46/120\n",
            "422/422 [==============================] - 3s 7ms/step - loss: 0.2029 - accuracy: 0.9247 - val_loss: 0.2467 - val_accuracy: 0.9132\n",
            "Epoch 47/120\n",
            "422/422 [==============================] - 3s 7ms/step - loss: 0.2014 - accuracy: 0.9253 - val_loss: 0.2089 - val_accuracy: 0.9245\n",
            "Epoch 48/120\n",
            "422/422 [==============================] - 3s 7ms/step - loss: 0.2000 - accuracy: 0.9268 - val_loss: 0.2124 - val_accuracy: 0.9233\n",
            "Epoch 49/120\n",
            "422/422 [==============================] - 3s 7ms/step - loss: 0.2001 - accuracy: 0.9258 - val_loss: 0.2429 - val_accuracy: 0.9153\n",
            "Epoch 50/120\n",
            "422/422 [==============================] - 3s 7ms/step - loss: 0.1980 - accuracy: 0.9267 - val_loss: 0.2237 - val_accuracy: 0.9185\n",
            "Epoch 51/120\n",
            "422/422 [==============================] - 3s 7ms/step - loss: 0.1969 - accuracy: 0.9274 - val_loss: 0.2181 - val_accuracy: 0.9222\n",
            "Epoch 52/120\n",
            "422/422 [==============================] - 3s 7ms/step - loss: 0.1953 - accuracy: 0.9280 - val_loss: 0.2291 - val_accuracy: 0.9165\n",
            "Epoch 53/120\n",
            "422/422 [==============================] - 3s 7ms/step - loss: 0.1978 - accuracy: 0.9271 - val_loss: 0.2133 - val_accuracy: 0.9215\n",
            "Epoch 54/120\n",
            "422/422 [==============================] - 3s 7ms/step - loss: 0.1963 - accuracy: 0.9271 - val_loss: 0.2123 - val_accuracy: 0.9257\n",
            "Epoch 55/120\n",
            "422/422 [==============================] - 3s 7ms/step - loss: 0.1951 - accuracy: 0.9278 - val_loss: 0.2066 - val_accuracy: 0.9258\n",
            "Epoch 56/120\n",
            "422/422 [==============================] - 3s 7ms/step - loss: 0.1917 - accuracy: 0.9300 - val_loss: 0.2163 - val_accuracy: 0.9240\n",
            "Epoch 57/120\n",
            "422/422 [==============================] - 3s 7ms/step - loss: 0.1917 - accuracy: 0.9297 - val_loss: 0.2275 - val_accuracy: 0.9190\n",
            "Epoch 58/120\n",
            "422/422 [==============================] - 3s 7ms/step - loss: 0.1934 - accuracy: 0.9282 - val_loss: 0.2403 - val_accuracy: 0.9105\n",
            "Epoch 59/120\n",
            "422/422 [==============================] - 3s 7ms/step - loss: 0.1903 - accuracy: 0.9305 - val_loss: 0.2245 - val_accuracy: 0.9193\n",
            "Epoch 60/120\n",
            "422/422 [==============================] - 3s 7ms/step - loss: 0.1886 - accuracy: 0.9309 - val_loss: 0.2182 - val_accuracy: 0.9218\n",
            "Epoch 61/120\n",
            "422/422 [==============================] - 3s 7ms/step - loss: 0.1923 - accuracy: 0.9293 - val_loss: 0.2113 - val_accuracy: 0.9233\n",
            "Epoch 62/120\n",
            "422/422 [==============================] - 3s 7ms/step - loss: 0.1850 - accuracy: 0.9310 - val_loss: 0.2217 - val_accuracy: 0.9203\n",
            "Epoch 63/120\n",
            "422/422 [==============================] - 3s 7ms/step - loss: 0.1924 - accuracy: 0.9289 - val_loss: 0.2221 - val_accuracy: 0.9198\n",
            "Epoch 64/120\n",
            "422/422 [==============================] - 3s 7ms/step - loss: 0.1875 - accuracy: 0.9296 - val_loss: 0.2051 - val_accuracy: 0.9237\n",
            "Epoch 65/120\n",
            "422/422 [==============================] - 3s 7ms/step - loss: 0.1878 - accuracy: 0.9303 - val_loss: 0.2246 - val_accuracy: 0.9195\n",
            "Epoch 66/120\n",
            "422/422 [==============================] - 3s 7ms/step - loss: 0.1853 - accuracy: 0.9315 - val_loss: 0.2057 - val_accuracy: 0.9240\n",
            "Epoch 67/120\n",
            "422/422 [==============================] - 3s 7ms/step - loss: 0.1880 - accuracy: 0.9299 - val_loss: 0.2181 - val_accuracy: 0.9215\n",
            "Epoch 68/120\n",
            "422/422 [==============================] - 3s 7ms/step - loss: 0.1874 - accuracy: 0.9305 - val_loss: 0.2293 - val_accuracy: 0.9192\n",
            "Epoch 69/120\n",
            "422/422 [==============================] - 3s 7ms/step - loss: 0.1869 - accuracy: 0.9311 - val_loss: 0.2125 - val_accuracy: 0.9213\n",
            "Epoch 70/120\n",
            "422/422 [==============================] - 3s 7ms/step - loss: 0.1852 - accuracy: 0.9318 - val_loss: 0.2061 - val_accuracy: 0.9252\n",
            "Epoch 71/120\n",
            "422/422 [==============================] - 3s 7ms/step - loss: 0.1831 - accuracy: 0.9317 - val_loss: 0.2560 - val_accuracy: 0.9062\n",
            "Epoch 72/120\n",
            "422/422 [==============================] - 3s 7ms/step - loss: 0.1839 - accuracy: 0.9322 - val_loss: 0.2113 - val_accuracy: 0.9242\n",
            "Epoch 73/120\n",
            "422/422 [==============================] - 3s 7ms/step - loss: 0.1816 - accuracy: 0.9312 - val_loss: 0.2090 - val_accuracy: 0.9272\n",
            "Epoch 74/120\n",
            "422/422 [==============================] - 3s 7ms/step - loss: 0.1871 - accuracy: 0.9301 - val_loss: 0.2080 - val_accuracy: 0.9262\n",
            "Epoch 75/120\n",
            "422/422 [==============================] - 3s 7ms/step - loss: 0.1832 - accuracy: 0.9329 - val_loss: 0.2076 - val_accuracy: 0.9273\n",
            "Epoch 76/120\n",
            "422/422 [==============================] - 3s 7ms/step - loss: 0.1830 - accuracy: 0.9323 - val_loss: 0.2138 - val_accuracy: 0.9227\n",
            "Epoch 77/120\n",
            "422/422 [==============================] - 3s 7ms/step - loss: 0.1802 - accuracy: 0.9342 - val_loss: 0.2081 - val_accuracy: 0.9242\n",
            "Epoch 78/120\n",
            "422/422 [==============================] - 3s 7ms/step - loss: 0.1820 - accuracy: 0.9329 - val_loss: 0.2163 - val_accuracy: 0.9252\n",
            "Epoch 79/120\n",
            "422/422 [==============================] - 3s 7ms/step - loss: 0.1822 - accuracy: 0.9320 - val_loss: 0.2185 - val_accuracy: 0.9215\n",
            "Epoch 80/120\n",
            "422/422 [==============================] - 3s 7ms/step - loss: 0.1808 - accuracy: 0.9336 - val_loss: 0.2202 - val_accuracy: 0.9192\n",
            "Epoch 81/120\n",
            "422/422 [==============================] - 3s 7ms/step - loss: 0.1792 - accuracy: 0.9348 - val_loss: 0.2608 - val_accuracy: 0.9028\n",
            "Epoch 82/120\n",
            "422/422 [==============================] - 3s 7ms/step - loss: 0.1801 - accuracy: 0.9329 - val_loss: 0.2304 - val_accuracy: 0.9157\n",
            "Epoch 83/120\n",
            "422/422 [==============================] - 3s 7ms/step - loss: 0.1795 - accuracy: 0.9328 - val_loss: 0.2224 - val_accuracy: 0.9175\n",
            "Epoch 84/120\n",
            "422/422 [==============================] - 3s 7ms/step - loss: 0.1777 - accuracy: 0.9339 - val_loss: 0.2344 - val_accuracy: 0.9208\n",
            "Epoch 85/120\n",
            "422/422 [==============================] - 3s 7ms/step - loss: 0.1773 - accuracy: 0.9338 - val_loss: 0.2684 - val_accuracy: 0.9112\n",
            "Epoch 86/120\n",
            "422/422 [==============================] - 3s 7ms/step - loss: 0.1789 - accuracy: 0.9335 - val_loss: 0.2185 - val_accuracy: 0.9215\n",
            "Epoch 87/120\n",
            "422/422 [==============================] - 3s 7ms/step - loss: 0.1781 - accuracy: 0.9335 - val_loss: 0.2129 - val_accuracy: 0.9230\n",
            "Epoch 88/120\n",
            "422/422 [==============================] - 3s 7ms/step - loss: 0.1781 - accuracy: 0.9321 - val_loss: 0.2179 - val_accuracy: 0.9260\n",
            "Epoch 89/120\n",
            "422/422 [==============================] - 3s 7ms/step - loss: 0.1775 - accuracy: 0.9343 - val_loss: 0.2228 - val_accuracy: 0.9180\n",
            "Epoch 90/120\n",
            "422/422 [==============================] - 3s 7ms/step - loss: 0.1771 - accuracy: 0.9343 - val_loss: 0.2067 - val_accuracy: 0.9257\n",
            "Epoch 91/120\n",
            "422/422 [==============================] - 3s 7ms/step - loss: 0.1758 - accuracy: 0.9340 - val_loss: 0.2286 - val_accuracy: 0.9217\n",
            "Epoch 92/120\n",
            "422/422 [==============================] - 3s 7ms/step - loss: 0.1774 - accuracy: 0.9339 - val_loss: 0.2164 - val_accuracy: 0.9203\n",
            "Epoch 93/120\n",
            "422/422 [==============================] - 3s 7ms/step - loss: 0.1756 - accuracy: 0.9354 - val_loss: 0.2116 - val_accuracy: 0.9270\n",
            "Epoch 94/120\n",
            "422/422 [==============================] - 3s 7ms/step - loss: 0.1752 - accuracy: 0.9345 - val_loss: 0.2230 - val_accuracy: 0.9170\n",
            "Epoch 95/120\n",
            "422/422 [==============================] - 3s 7ms/step - loss: 0.1755 - accuracy: 0.9332 - val_loss: 0.2124 - val_accuracy: 0.9257\n",
            "Epoch 96/120\n",
            "422/422 [==============================] - 3s 7ms/step - loss: 0.1722 - accuracy: 0.9359 - val_loss: 0.2303 - val_accuracy: 0.9183\n",
            "Epoch 97/120\n",
            "422/422 [==============================] - 3s 7ms/step - loss: 0.1766 - accuracy: 0.9335 - val_loss: 0.2071 - val_accuracy: 0.9260\n",
            "Epoch 98/120\n",
            "422/422 [==============================] - 3s 7ms/step - loss: 0.1734 - accuracy: 0.9362 - val_loss: 0.2275 - val_accuracy: 0.9200\n",
            "Epoch 99/120\n",
            "422/422 [==============================] - 3s 7ms/step - loss: 0.1744 - accuracy: 0.9356 - val_loss: 0.2057 - val_accuracy: 0.9250\n",
            "Epoch 100/120\n",
            "422/422 [==============================] - 3s 7ms/step - loss: 0.1747 - accuracy: 0.9349 - val_loss: 0.2163 - val_accuracy: 0.9193\n",
            "Epoch 101/120\n",
            "422/422 [==============================] - 3s 7ms/step - loss: 0.1748 - accuracy: 0.9345 - val_loss: 0.2042 - val_accuracy: 0.9250\n",
            "Epoch 102/120\n",
            "422/422 [==============================] - 3s 7ms/step - loss: 0.1718 - accuracy: 0.9365 - val_loss: 0.2053 - val_accuracy: 0.9268\n",
            "Epoch 103/120\n",
            "422/422 [==============================] - 3s 7ms/step - loss: 0.1744 - accuracy: 0.9349 - val_loss: 0.2235 - val_accuracy: 0.9197\n",
            "Epoch 104/120\n",
            "422/422 [==============================] - 3s 7ms/step - loss: 0.1705 - accuracy: 0.9370 - val_loss: 0.2145 - val_accuracy: 0.9248\n",
            "Epoch 105/120\n",
            "422/422 [==============================] - 3s 7ms/step - loss: 0.1733 - accuracy: 0.9361 - val_loss: 0.2019 - val_accuracy: 0.9295\n",
            "Epoch 106/120\n",
            "422/422 [==============================] - 3s 7ms/step - loss: 0.1694 - accuracy: 0.9378 - val_loss: 0.2257 - val_accuracy: 0.9208\n",
            "Epoch 107/120\n",
            "422/422 [==============================] - 3s 7ms/step - loss: 0.1726 - accuracy: 0.9360 - val_loss: 0.2086 - val_accuracy: 0.9280\n",
            "Epoch 108/120\n",
            "422/422 [==============================] - 3s 7ms/step - loss: 0.1716 - accuracy: 0.9351 - val_loss: 0.2062 - val_accuracy: 0.9263\n",
            "Epoch 109/120\n",
            "422/422 [==============================] - 3s 7ms/step - loss: 0.1691 - accuracy: 0.9371 - val_loss: 0.2464 - val_accuracy: 0.9075\n",
            "Epoch 110/120\n",
            "422/422 [==============================] - 3s 7ms/step - loss: 0.1715 - accuracy: 0.9372 - val_loss: 0.2314 - val_accuracy: 0.9182\n",
            "Epoch 111/120\n",
            "422/422 [==============================] - 3s 7ms/step - loss: 0.1706 - accuracy: 0.9368 - val_loss: 0.2122 - val_accuracy: 0.9253\n",
            "Epoch 112/120\n",
            "422/422 [==============================] - 3s 7ms/step - loss: 0.1719 - accuracy: 0.9362 - val_loss: 0.2040 - val_accuracy: 0.9273\n",
            "Epoch 113/120\n",
            "422/422 [==============================] - 3s 7ms/step - loss: 0.1696 - accuracy: 0.9369 - val_loss: 0.2070 - val_accuracy: 0.9258\n",
            "Epoch 114/120\n",
            "422/422 [==============================] - 3s 7ms/step - loss: 0.1712 - accuracy: 0.9371 - val_loss: 0.2207 - val_accuracy: 0.9207\n",
            "Epoch 115/120\n",
            "422/422 [==============================] - 3s 7ms/step - loss: 0.1700 - accuracy: 0.9372 - val_loss: 0.2108 - val_accuracy: 0.9228\n",
            "Epoch 116/120\n",
            "422/422 [==============================] - 3s 7ms/step - loss: 0.1690 - accuracy: 0.9376 - val_loss: 0.2348 - val_accuracy: 0.9117\n",
            "Epoch 117/120\n",
            "422/422 [==============================] - 3s 7ms/step - loss: 0.1688 - accuracy: 0.9375 - val_loss: 0.2204 - val_accuracy: 0.9212\n",
            "Epoch 118/120\n",
            "422/422 [==============================] - 3s 7ms/step - loss: 0.1676 - accuracy: 0.9377 - val_loss: 0.2181 - val_accuracy: 0.9220\n",
            "Epoch 119/120\n",
            "422/422 [==============================] - 3s 7ms/step - loss: 0.1690 - accuracy: 0.9375 - val_loss: 0.1997 - val_accuracy: 0.9302\n",
            "Epoch 120/120\n",
            "422/422 [==============================] - 3s 7ms/step - loss: 0.1702 - accuracy: 0.9357 - val_loss: 0.2067 - val_accuracy: 0.9253\n"
          ]
        }
      ]
    },
    {
      "cell_type": "markdown",
      "metadata": {
        "id": "-6kG_TcIb81H"
      },
      "source": [
        "## Evaluate the trained model"
      ]
    },
    {
      "cell_type": "code",
      "source": [
        "model.summary()"
      ],
      "metadata": {
        "colab": {
          "base_uri": "https://localhost:8080/"
        },
        "id": "_KdgWHXB5m1o",
        "outputId": "cf99442d-fa0d-4db7-ed1c-f97f31294a9b"
      },
      "execution_count": 70,
      "outputs": [
        {
          "output_type": "stream",
          "name": "stdout",
          "text": [
            "Model: \"sequential_20\"\n",
            "_________________________________________________________________\n",
            " Layer (type)                Output Shape              Param #   \n",
            "=================================================================\n",
            " conv2d_40 (Conv2D)          (None, 26, 26, 32)        320       \n",
            "                                                                 \n",
            " batch_normalization_12 (Bat  (None, 26, 26, 32)       128       \n",
            " chNormalization)                                                \n",
            "                                                                 \n",
            " dropout_28 (Dropout)        (None, 26, 26, 32)        0         \n",
            "                                                                 \n",
            " max_pooling2d_40 (MaxPoolin  (None, 13, 13, 32)       0         \n",
            " g2D)                                                            \n",
            "                                                                 \n",
            " conv2d_41 (Conv2D)          (None, 11, 11, 64)        18496     \n",
            "                                                                 \n",
            " batch_normalization_13 (Bat  (None, 11, 11, 64)       256       \n",
            " chNormalization)                                                \n",
            "                                                                 \n",
            " dropout_29 (Dropout)        (None, 11, 11, 64)        0         \n",
            "                                                                 \n",
            " max_pooling2d_41 (MaxPoolin  (None, 5, 5, 64)         0         \n",
            " g2D)                                                            \n",
            "                                                                 \n",
            " flatten_20 (Flatten)        (None, 1600)              0         \n",
            "                                                                 \n",
            " dropout_30 (Dropout)        (None, 1600)              0         \n",
            "                                                                 \n",
            " dense_20 (Dense)            (None, 10)                16010     \n",
            "                                                                 \n",
            "=================================================================\n",
            "Total params: 35,210\n",
            "Trainable params: 35,018\n",
            "Non-trainable params: 192\n",
            "_________________________________________________________________\n"
          ]
        }
      ]
    },
    {
      "cell_type": "code",
      "source": [
        "plt.figure()\n",
        "plt.plot(np.arange(0,epochs),H.history[\"accuracy\"],label=\"train_acc\")\n",
        "plt.plot(np.arange(0,epochs),H.history[\"val_accuracy\"],label=\"val_acc\")\n",
        "plt.title(\"Training and Validation Accuracy\")\n",
        "plt.xlabel(\"Epoch\")\n",
        "plt.ylabel(\"Accuracy\")\n",
        "plt.legend()\n",
        "\n",
        "plt.figure()\n",
        "plt.plot(np.arange(0,epochs),H.history[\"loss\"],label=\"train_loss\") \n",
        "plt.plot(np.arange(0,epochs),H.history[\"val_loss\"],label=\"val_loss\")\n",
        "plt.title(\"Training and Validation Loss\")\n",
        "plt.xlabel(\"Epoch\")\n",
        "plt.ylabel(\"Loss\")\n",
        "plt.legend()\n",
        "\n",
        "plt.show()"
      ],
      "metadata": {
        "colab": {
          "base_uri": "https://localhost:8080/",
          "height": 573
        },
        "id": "4RYrcIqMz6id",
        "outputId": "e26f1819-c10b-4785-a509-f73cb75dcffc"
      },
      "execution_count": 71,
      "outputs": [
        {
          "output_type": "display_data",
          "data": {
            "text/plain": [
              "<Figure size 432x288 with 1 Axes>"
            ],
            "image/png": "[encoded data removed]"
          },
          "metadata": {
            "needs_background": "light"
          }
        },
        {
          "output_type": "display_data",
          "data": {
            "text/plain": [
              "<Figure size 432x288 with 1 Axes>"
            ],
            "image/png": "[encoded data removed]"
          },
          "metadata": {
            "needs_background": "light"
          }
        }
      ]
    }
  ]
}