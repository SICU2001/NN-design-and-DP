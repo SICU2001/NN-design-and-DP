{
  "nbformat": 4,
  "nbformat_minor": 0,
  "metadata": {
    "colab": {
      "provenance": [],
      "collapsed_sections": [
        "okh0FDXhDJS-",
        "WZ7LpgOtDLUH",
        "z48JNMNkDSkx"
      ]
    },
    "kernelspec": {
      "name": "python3",
      "display_name": "Python 3"
    },
    "language_info": {
      "name": "python"
    },
    "accelerator": "GPU"
  },
  "cells": [
    {
      "cell_type": "markdown",
      "source": [
        "# Modelo 2\n",
        "Sofía Ingigerth Cañas Urbina A01173828"
      ],
      "metadata": {
        "id": "SLMuQ8PFzPUe"
      }
    },
    {
      "cell_type": "markdown",
      "source": [
        "## Setup"
      ],
      "metadata": {
        "id": "okh0FDXhDJS-"
      }
    },
    {
      "cell_type": "code",
      "execution_count": 1,
      "metadata": {
        "id": "FTlJfcpczOd6"
      },
      "outputs": [],
      "source": [
        "import numpy as np\n",
        "import tensorflow as tf\n",
        "from tensorflow import keras\n",
        "from tensorflow.python.keras.models import Sequential\n",
        "from tensorflow.python.keras.layers import Dense, Flatten, Conv2D, Dropout, MaxPooling2D\n",
        "import matplotlib.pyplot as plt"
      ]
    },
    {
      "cell_type": "markdown",
      "source": [
        "## Prepare the data"
      ],
      "metadata": {
        "id": "WZ7LpgOtDLUH"
      }
    },
    {
      "cell_type": "code",
      "source": [
        "# Model / data parameters\n",
        "num_classes = 10\n",
        "input_shape = (28, 28, 1)\n",
        "\n",
        "# the data, split between train and test sets\n",
        "(x_train, y_train), (x_test, y_test) = keras.datasets.fashion_mnist.load_data()\n",
        "\n",
        "# Scale images to the [0, 1] range\n",
        "x_train = x_train.astype(\"float32\") / 255\n",
        "x_test = x_test.astype(\"float32\") / 255\n",
        "# Make sure images have shape (28, 28, 1)\n",
        "x_train = np.expand_dims(x_train, -1)\n",
        "x_test = np.expand_dims(x_test, -1)\n",
        "\n",
        "# convert class vectors to binary class matrices\n",
        "y_train = keras.utils.to_categorical(y_train, num_classes)\n",
        "y_test = keras.utils.to_categorical(y_test, num_classes)"
      ],
      "metadata": {
        "id": "jxY_FB42Bq5D"
      },
      "execution_count": 11,
      "outputs": []
    },
    {
      "cell_type": "markdown",
      "source": [
        "## Build the model"
      ],
      "metadata": {
        "id": "z48JNMNkDSkx"
      }
    },
    {
      "cell_type": "code",
      "source": [
        "model = Sequential()\n",
        "LeakyReLU = lambda x: tf.keras.activations.relu(x, alpha=0.1)\n",
        "model.add(Conv2D(32, \n",
        "                 kernel_size = (3, 3),\n",
        "                 activation = LeakyReLU,\n",
        "                 padding=\"same\",\n",
        "                 input_shape=(28, 28, 1)))\n",
        "model.add(keras.layers.BatchNormalization())\n",
        "model.add(MaxPooling2D((2, 2)))\n",
        "model.add(Dropout(0.3))\n",
        "model.add(Conv2D(64, \n",
        "                 kernel_size = (3, 3), \n",
        "                 activation = LeakyReLU,\n",
        "                 padding=\"same\"))\n",
        "model.add(keras.layers.BatchNormalization())\n",
        "model.add(MaxPooling2D(pool_size = (2, 2)))\n",
        "model.add(Dropout(0.5))\n",
        "model.add(Conv2D(128, (3, 3), activation = LeakyReLU))\n",
        "model.add(keras.layers.BatchNormalization())\n",
        "model.add(Flatten())                               # Flatemos el tensor de pixeles:\n",
        "model.add(Dense(128, activation = LeakyReLU))\n",
        "model.add(Dropout(0.3))\n",
        "model.add(Dense(10, activation = 'softmax'))    # La ultima capa debe ser el nº de lables a predecir"
      ],
      "metadata": {
        "id": "2E-_xDQ1DFgn"
      },
      "execution_count": 12,
      "outputs": []
    },
    {
      "cell_type": "markdown",
      "source": [
        "## Train the model"
      ],
      "metadata": {
        "id": "fLNjzZ9IDT_u"
      }
    },
    {
      "cell_type": "code",
      "source": [
        "model.compile(loss=\"categorical_crossentropy\", optimizer=\"adam\", metrics=[\"accuracy\"])\n",
        "\n",
        "batch = 128\n",
        "epocas = 120\n",
        " \n",
        "train_model = model.fit(x_train, y_train,\n",
        "                        batch_size = batch,\n",
        "                        epochs = epocas,\n",
        "                        verbose = 1,\n",
        "                        validation_data = (x_test, y_test))"
      ],
      "metadata": {
        "id": "SyikuWk6DYEj",
        "colab": {
          "base_uri": "https://localhost:8080/"
        },
        "outputId": "001d0c4e-18f0-4aca-c17b-b30ff8f557e6"
      },
      "execution_count": 13,
      "outputs": [
        {
          "output_type": "stream",
          "name": "stdout",
          "text": [
            "Epoch 1/120\n",
            "469/469 [==============================] - 5s 8ms/step - loss: 0.5298 - accuracy: 0.8108 - val_loss: 0.6332 - val_accuracy: 0.7713\n",
            "Epoch 2/120\n",
            "469/469 [==============================] - 4s 8ms/step - loss: 0.3643 - accuracy: 0.8682 - val_loss: 0.3854 - val_accuracy: 0.8566\n",
            "Epoch 3/120\n",
            "469/469 [==============================] - 4s 8ms/step - loss: 0.3243 - accuracy: 0.8807 - val_loss: 0.2893 - val_accuracy: 0.8915\n",
            "Epoch 4/120\n",
            "469/469 [==============================] - 4s 8ms/step - loss: 0.2974 - accuracy: 0.8915 - val_loss: 0.2783 - val_accuracy: 0.9001\n",
            "Epoch 5/120\n",
            "469/469 [==============================] - 4s 8ms/step - loss: 0.2795 - accuracy: 0.8971 - val_loss: 0.2573 - val_accuracy: 0.9062\n",
            "Epoch 6/120\n",
            "469/469 [==============================] - 4s 8ms/step - loss: 0.2665 - accuracy: 0.9018 - val_loss: 0.2937 - val_accuracy: 0.8892\n",
            "Epoch 7/120\n",
            "469/469 [==============================] - 4s 8ms/step - loss: 0.2528 - accuracy: 0.9071 - val_loss: 0.2439 - val_accuracy: 0.9118\n",
            "Epoch 8/120\n",
            "469/469 [==============================] - 4s 8ms/step - loss: 0.2441 - accuracy: 0.9096 - val_loss: 0.2981 - val_accuracy: 0.8945\n",
            "Epoch 9/120\n",
            "469/469 [==============================] - 4s 8ms/step - loss: 0.2362 - accuracy: 0.9122 - val_loss: 0.2605 - val_accuracy: 0.9070\n",
            "Epoch 10/120\n",
            "469/469 [==============================] - 4s 8ms/step - loss: 0.2323 - accuracy: 0.9134 - val_loss: 0.2769 - val_accuracy: 0.9057\n",
            "Epoch 11/120\n",
            "469/469 [==============================] - 4s 8ms/step - loss: 0.2249 - accuracy: 0.9162 - val_loss: 0.2254 - val_accuracy: 0.9220\n",
            "Epoch 12/120\n",
            "469/469 [==============================] - 4s 8ms/step - loss: 0.2225 - accuracy: 0.9164 - val_loss: 0.2260 - val_accuracy: 0.9210\n",
            "Epoch 13/120\n",
            "469/469 [==============================] - 4s 8ms/step - loss: 0.2153 - accuracy: 0.9185 - val_loss: 0.2377 - val_accuracy: 0.9127\n",
            "Epoch 14/120\n",
            "469/469 [==============================] - 4s 8ms/step - loss: 0.2100 - accuracy: 0.9218 - val_loss: 0.2314 - val_accuracy: 0.9170\n",
            "Epoch 15/120\n",
            "469/469 [==============================] - 4s 8ms/step - loss: 0.2073 - accuracy: 0.9231 - val_loss: 0.2344 - val_accuracy: 0.9161\n",
            "Epoch 16/120\n",
            "469/469 [==============================] - 4s 9ms/step - loss: 0.1998 - accuracy: 0.9255 - val_loss: 0.2397 - val_accuracy: 0.9155\n",
            "Epoch 17/120\n",
            "469/469 [==============================] - 4s 8ms/step - loss: 0.1974 - accuracy: 0.9245 - val_loss: 0.3695 - val_accuracy: 0.8765\n",
            "Epoch 18/120\n",
            "469/469 [==============================] - 4s 8ms/step - loss: 0.1935 - accuracy: 0.9271 - val_loss: 0.2427 - val_accuracy: 0.9156\n",
            "Epoch 19/120\n",
            "469/469 [==============================] - 4s 8ms/step - loss: 0.1890 - accuracy: 0.9286 - val_loss: 0.2295 - val_accuracy: 0.9216\n",
            "Epoch 20/120\n",
            "469/469 [==============================] - 4s 8ms/step - loss: 0.1865 - accuracy: 0.9293 - val_loss: 0.2263 - val_accuracy: 0.9213\n",
            "Epoch 21/120\n",
            "469/469 [==============================] - 4s 8ms/step - loss: 0.1850 - accuracy: 0.9309 - val_loss: 0.3000 - val_accuracy: 0.8990\n",
            "Epoch 22/120\n",
            "469/469 [==============================] - 4s 8ms/step - loss: 0.1789 - accuracy: 0.9330 - val_loss: 0.2412 - val_accuracy: 0.9196\n",
            "Epoch 23/120\n",
            "469/469 [==============================] - 4s 8ms/step - loss: 0.1786 - accuracy: 0.9320 - val_loss: 0.2190 - val_accuracy: 0.9292\n",
            "Epoch 24/120\n",
            "469/469 [==============================] - 4s 8ms/step - loss: 0.1742 - accuracy: 0.9342 - val_loss: 0.2055 - val_accuracy: 0.9306\n",
            "Epoch 25/120\n",
            "469/469 [==============================] - 4s 8ms/step - loss: 0.1716 - accuracy: 0.9344 - val_loss: 0.2141 - val_accuracy: 0.9298\n",
            "Epoch 26/120\n",
            "469/469 [==============================] - 4s 8ms/step - loss: 0.1688 - accuracy: 0.9359 - val_loss: 0.2159 - val_accuracy: 0.9271\n",
            "Epoch 27/120\n",
            "469/469 [==============================] - 4s 8ms/step - loss: 0.1662 - accuracy: 0.9355 - val_loss: 0.2315 - val_accuracy: 0.9267\n",
            "Epoch 28/120\n",
            "469/469 [==============================] - 4s 8ms/step - loss: 0.1653 - accuracy: 0.9373 - val_loss: 0.2290 - val_accuracy: 0.9198\n",
            "Epoch 29/120\n",
            "469/469 [==============================] - 4s 8ms/step - loss: 0.1633 - accuracy: 0.9379 - val_loss: 0.2154 - val_accuracy: 0.9291\n",
            "Epoch 30/120\n",
            "469/469 [==============================] - 5s 10ms/step - loss: 0.1597 - accuracy: 0.9393 - val_loss: 0.2222 - val_accuracy: 0.9261\n",
            "Epoch 31/120\n",
            "469/469 [==============================] - 4s 8ms/step - loss: 0.1569 - accuracy: 0.9406 - val_loss: 0.2159 - val_accuracy: 0.9308\n",
            "Epoch 32/120\n",
            "469/469 [==============================] - 4s 8ms/step - loss: 0.1541 - accuracy: 0.9414 - val_loss: 0.2044 - val_accuracy: 0.9317\n",
            "Epoch 33/120\n",
            "469/469 [==============================] - 4s 8ms/step - loss: 0.1539 - accuracy: 0.9423 - val_loss: 0.2406 - val_accuracy: 0.9159\n",
            "Epoch 34/120\n",
            "469/469 [==============================] - 4s 9ms/step - loss: 0.1537 - accuracy: 0.9411 - val_loss: 0.2157 - val_accuracy: 0.9304\n",
            "Epoch 35/120\n",
            "469/469 [==============================] - 4s 8ms/step - loss: 0.1505 - accuracy: 0.9431 - val_loss: 0.2127 - val_accuracy: 0.9285\n",
            "Epoch 36/120\n",
            "469/469 [==============================] - 4s 8ms/step - loss: 0.1503 - accuracy: 0.9430 - val_loss: 0.2157 - val_accuracy: 0.9331\n",
            "Epoch 37/120\n",
            "469/469 [==============================] - 4s 8ms/step - loss: 0.1478 - accuracy: 0.9436 - val_loss: 0.2268 - val_accuracy: 0.9319\n",
            "Epoch 38/120\n",
            "469/469 [==============================] - 4s 8ms/step - loss: 0.1475 - accuracy: 0.9441 - val_loss: 0.2059 - val_accuracy: 0.9331\n",
            "Epoch 39/120\n",
            "469/469 [==============================] - 4s 8ms/step - loss: 0.1426 - accuracy: 0.9455 - val_loss: 0.2365 - val_accuracy: 0.9197\n",
            "Epoch 40/120\n",
            "469/469 [==============================] - 4s 8ms/step - loss: 0.1430 - accuracy: 0.9452 - val_loss: 0.2187 - val_accuracy: 0.9289\n",
            "Epoch 41/120\n",
            "469/469 [==============================] - 4s 8ms/step - loss: 0.1425 - accuracy: 0.9455 - val_loss: 0.2311 - val_accuracy: 0.9270\n",
            "Epoch 42/120\n",
            "469/469 [==============================] - 4s 8ms/step - loss: 0.1388 - accuracy: 0.9470 - val_loss: 0.2470 - val_accuracy: 0.9238\n",
            "Epoch 43/120\n",
            "469/469 [==============================] - 4s 8ms/step - loss: 0.1395 - accuracy: 0.9463 - val_loss: 0.2261 - val_accuracy: 0.9292\n",
            "Epoch 44/120\n",
            "469/469 [==============================] - 4s 8ms/step - loss: 0.1384 - accuracy: 0.9470 - val_loss: 0.2175 - val_accuracy: 0.9349\n",
            "Epoch 45/120\n",
            "469/469 [==============================] - 4s 8ms/step - loss: 0.1348 - accuracy: 0.9479 - val_loss: 0.2170 - val_accuracy: 0.9296\n",
            "Epoch 46/120\n",
            "469/469 [==============================] - 4s 8ms/step - loss: 0.1342 - accuracy: 0.9478 - val_loss: 0.2240 - val_accuracy: 0.9324\n",
            "Epoch 47/120\n",
            "469/469 [==============================] - 4s 8ms/step - loss: 0.1342 - accuracy: 0.9488 - val_loss: 0.2122 - val_accuracy: 0.9307\n",
            "Epoch 48/120\n",
            "469/469 [==============================] - 4s 8ms/step - loss: 0.1313 - accuracy: 0.9496 - val_loss: 0.2320 - val_accuracy: 0.9273\n",
            "Epoch 49/120\n",
            "469/469 [==============================] - 4s 8ms/step - loss: 0.1333 - accuracy: 0.9491 - val_loss: 0.2227 - val_accuracy: 0.9315\n",
            "Epoch 50/120\n",
            "469/469 [==============================] - 4s 8ms/step - loss: 0.1307 - accuracy: 0.9496 - val_loss: 0.2242 - val_accuracy: 0.9311\n",
            "Epoch 51/120\n",
            "469/469 [==============================] - 4s 8ms/step - loss: 0.1299 - accuracy: 0.9498 - val_loss: 0.2422 - val_accuracy: 0.9225\n",
            "Epoch 52/120\n",
            "469/469 [==============================] - 4s 8ms/step - loss: 0.1256 - accuracy: 0.9521 - val_loss: 0.2136 - val_accuracy: 0.9344\n",
            "Epoch 53/120\n",
            "469/469 [==============================] - 4s 8ms/step - loss: 0.1269 - accuracy: 0.9515 - val_loss: 0.2220 - val_accuracy: 0.9298\n",
            "Epoch 54/120\n",
            "469/469 [==============================] - 4s 8ms/step - loss: 0.1263 - accuracy: 0.9512 - val_loss: 0.2202 - val_accuracy: 0.9328\n",
            "Epoch 55/120\n",
            "469/469 [==============================] - 4s 8ms/step - loss: 0.1245 - accuracy: 0.9525 - val_loss: 0.2204 - val_accuracy: 0.9336\n",
            "Epoch 56/120\n",
            "469/469 [==============================] - 4s 8ms/step - loss: 0.1244 - accuracy: 0.9517 - val_loss: 0.2357 - val_accuracy: 0.9264\n",
            "Epoch 57/120\n",
            "469/469 [==============================] - 4s 8ms/step - loss: 0.1224 - accuracy: 0.9539 - val_loss: 0.2191 - val_accuracy: 0.9340\n",
            "Epoch 58/120\n",
            "469/469 [==============================] - 4s 8ms/step - loss: 0.1227 - accuracy: 0.9531 - val_loss: 0.2298 - val_accuracy: 0.9316\n",
            "Epoch 59/120\n",
            "469/469 [==============================] - 4s 8ms/step - loss: 0.1209 - accuracy: 0.9537 - val_loss: 0.2214 - val_accuracy: 0.9321\n",
            "Epoch 60/120\n",
            "469/469 [==============================] - 4s 8ms/step - loss: 0.1178 - accuracy: 0.9545 - val_loss: 0.2420 - val_accuracy: 0.9293\n",
            "Epoch 61/120\n",
            "469/469 [==============================] - 4s 8ms/step - loss: 0.1200 - accuracy: 0.9546 - val_loss: 0.2258 - val_accuracy: 0.9318\n",
            "Epoch 62/120\n",
            "469/469 [==============================] - 4s 8ms/step - loss: 0.1164 - accuracy: 0.9561 - val_loss: 0.2607 - val_accuracy: 0.9217\n",
            "Epoch 63/120\n",
            "469/469 [==============================] - 4s 8ms/step - loss: 0.1155 - accuracy: 0.9559 - val_loss: 0.2425 - val_accuracy: 0.9317\n",
            "Epoch 64/120\n",
            "469/469 [==============================] - 4s 8ms/step - loss: 0.1190 - accuracy: 0.9541 - val_loss: 0.2157 - val_accuracy: 0.9349\n",
            "Epoch 65/120\n",
            "469/469 [==============================] - 4s 8ms/step - loss: 0.1136 - accuracy: 0.9566 - val_loss: 0.2202 - val_accuracy: 0.9348\n",
            "Epoch 66/120\n",
            "469/469 [==============================] - 4s 8ms/step - loss: 0.1114 - accuracy: 0.9570 - val_loss: 0.2339 - val_accuracy: 0.9324\n",
            "Epoch 67/120\n",
            "469/469 [==============================] - 4s 8ms/step - loss: 0.1146 - accuracy: 0.9561 - val_loss: 0.2275 - val_accuracy: 0.9319\n",
            "Epoch 68/120\n",
            "469/469 [==============================] - 4s 8ms/step - loss: 0.1142 - accuracy: 0.9559 - val_loss: 0.2124 - val_accuracy: 0.9359\n",
            "Epoch 69/120\n",
            "469/469 [==============================] - 4s 8ms/step - loss: 0.1117 - accuracy: 0.9574 - val_loss: 0.2211 - val_accuracy: 0.9349\n",
            "Epoch 70/120\n",
            "469/469 [==============================] - 4s 8ms/step - loss: 0.1123 - accuracy: 0.9567 - val_loss: 0.2312 - val_accuracy: 0.9319\n",
            "Epoch 71/120\n",
            "469/469 [==============================] - 4s 8ms/step - loss: 0.1101 - accuracy: 0.9578 - val_loss: 0.2286 - val_accuracy: 0.9329\n",
            "Epoch 72/120\n",
            "469/469 [==============================] - 4s 8ms/step - loss: 0.1121 - accuracy: 0.9575 - val_loss: 0.2404 - val_accuracy: 0.9293\n",
            "Epoch 73/120\n",
            "469/469 [==============================] - 4s 8ms/step - loss: 0.1090 - accuracy: 0.9587 - val_loss: 0.2223 - val_accuracy: 0.9354\n",
            "Epoch 74/120\n",
            "469/469 [==============================] - 4s 8ms/step - loss: 0.1081 - accuracy: 0.9590 - val_loss: 0.2165 - val_accuracy: 0.9366\n",
            "Epoch 75/120\n",
            "469/469 [==============================] - 4s 8ms/step - loss: 0.1097 - accuracy: 0.9576 - val_loss: 0.2287 - val_accuracy: 0.9315\n",
            "Epoch 76/120\n",
            "469/469 [==============================] - 4s 9ms/step - loss: 0.1091 - accuracy: 0.9580 - val_loss: 0.2223 - val_accuracy: 0.9352\n",
            "Epoch 77/120\n",
            "469/469 [==============================] - 4s 8ms/step - loss: 0.1069 - accuracy: 0.9588 - val_loss: 0.2421 - val_accuracy: 0.9312\n",
            "Epoch 78/120\n",
            "469/469 [==============================] - 4s 9ms/step - loss: 0.1065 - accuracy: 0.9590 - val_loss: 0.2222 - val_accuracy: 0.9356\n",
            "Epoch 79/120\n",
            "469/469 [==============================] - 4s 8ms/step - loss: 0.1077 - accuracy: 0.9592 - val_loss: 0.2158 - val_accuracy: 0.9382\n",
            "Epoch 80/120\n",
            "469/469 [==============================] - 4s 8ms/step - loss: 0.1031 - accuracy: 0.9605 - val_loss: 0.2375 - val_accuracy: 0.9308\n",
            "Epoch 81/120\n",
            "469/469 [==============================] - 4s 8ms/step - loss: 0.1017 - accuracy: 0.9611 - val_loss: 0.2302 - val_accuracy: 0.9345\n",
            "Epoch 82/120\n",
            "469/469 [==============================] - 4s 8ms/step - loss: 0.1071 - accuracy: 0.9594 - val_loss: 0.2274 - val_accuracy: 0.9326\n",
            "Epoch 83/120\n",
            "469/469 [==============================] - 4s 8ms/step - loss: 0.1039 - accuracy: 0.9602 - val_loss: 0.2313 - val_accuracy: 0.9332\n",
            "Epoch 84/120\n",
            "469/469 [==============================] - 4s 8ms/step - loss: 0.1022 - accuracy: 0.9613 - val_loss: 0.2359 - val_accuracy: 0.9316\n",
            "Epoch 85/120\n",
            "469/469 [==============================] - 4s 8ms/step - loss: 0.1017 - accuracy: 0.9612 - val_loss: 0.2265 - val_accuracy: 0.9326\n",
            "Epoch 86/120\n",
            "469/469 [==============================] - 4s 8ms/step - loss: 0.1007 - accuracy: 0.9613 - val_loss: 0.2688 - val_accuracy: 0.9251\n",
            "Epoch 87/120\n",
            "469/469 [==============================] - 4s 8ms/step - loss: 0.1022 - accuracy: 0.9601 - val_loss: 0.2631 - val_accuracy: 0.9249\n",
            "Epoch 88/120\n",
            "469/469 [==============================] - 4s 8ms/step - loss: 0.1014 - accuracy: 0.9617 - val_loss: 0.2290 - val_accuracy: 0.9324\n",
            "Epoch 89/120\n",
            "469/469 [==============================] - 4s 8ms/step - loss: 0.0995 - accuracy: 0.9619 - val_loss: 0.2290 - val_accuracy: 0.9350\n",
            "Epoch 90/120\n",
            "469/469 [==============================] - 4s 8ms/step - loss: 0.0988 - accuracy: 0.9625 - val_loss: 0.2358 - val_accuracy: 0.9319\n",
            "Epoch 91/120\n",
            "469/469 [==============================] - 4s 8ms/step - loss: 0.0996 - accuracy: 0.9620 - val_loss: 0.2759 - val_accuracy: 0.9235\n",
            "Epoch 92/120\n",
            "469/469 [==============================] - 4s 8ms/step - loss: 0.0966 - accuracy: 0.9630 - val_loss: 0.2306 - val_accuracy: 0.9326\n",
            "Epoch 93/120\n",
            "469/469 [==============================] - 4s 8ms/step - loss: 0.0962 - accuracy: 0.9635 - val_loss: 0.2351 - val_accuracy: 0.9361\n",
            "Epoch 94/120\n",
            "469/469 [==============================] - 4s 8ms/step - loss: 0.1009 - accuracy: 0.9613 - val_loss: 0.2240 - val_accuracy: 0.9372\n",
            "Epoch 95/120\n",
            "469/469 [==============================] - 4s 8ms/step - loss: 0.0964 - accuracy: 0.9626 - val_loss: 0.2277 - val_accuracy: 0.9353\n",
            "Epoch 96/120\n",
            "469/469 [==============================] - 4s 8ms/step - loss: 0.0980 - accuracy: 0.9624 - val_loss: 0.2518 - val_accuracy: 0.9289\n",
            "Epoch 97/120\n",
            "469/469 [==============================] - 4s 8ms/step - loss: 0.0968 - accuracy: 0.9635 - val_loss: 0.2335 - val_accuracy: 0.9368\n",
            "Epoch 98/120\n",
            "469/469 [==============================] - 4s 8ms/step - loss: 0.0950 - accuracy: 0.9638 - val_loss: 0.2262 - val_accuracy: 0.9382\n",
            "Epoch 99/120\n",
            "469/469 [==============================] - 4s 8ms/step - loss: 0.0956 - accuracy: 0.9636 - val_loss: 0.2529 - val_accuracy: 0.9331\n",
            "Epoch 100/120\n",
            "469/469 [==============================] - 4s 8ms/step - loss: 0.0960 - accuracy: 0.9631 - val_loss: 0.2302 - val_accuracy: 0.9367\n",
            "Epoch 101/120\n",
            "469/469 [==============================] - 4s 8ms/step - loss: 0.0938 - accuracy: 0.9639 - val_loss: 0.2325 - val_accuracy: 0.9366\n",
            "Epoch 102/120\n",
            "469/469 [==============================] - 4s 8ms/step - loss: 0.0939 - accuracy: 0.9640 - val_loss: 0.2639 - val_accuracy: 0.9274\n",
            "Epoch 103/120\n",
            "469/469 [==============================] - 4s 8ms/step - loss: 0.0926 - accuracy: 0.9651 - val_loss: 0.2432 - val_accuracy: 0.9361\n",
            "Epoch 104/120\n",
            "469/469 [==============================] - 4s 8ms/step - loss: 0.0921 - accuracy: 0.9645 - val_loss: 0.2535 - val_accuracy: 0.9300\n",
            "Epoch 105/120\n",
            "469/469 [==============================] - 4s 8ms/step - loss: 0.0943 - accuracy: 0.9640 - val_loss: 0.2481 - val_accuracy: 0.9324\n",
            "Epoch 106/120\n",
            "469/469 [==============================] - 4s 8ms/step - loss: 0.0940 - accuracy: 0.9642 - val_loss: 0.2238 - val_accuracy: 0.9382\n",
            "Epoch 107/120\n",
            "469/469 [==============================] - 4s 8ms/step - loss: 0.0883 - accuracy: 0.9660 - val_loss: 0.2443 - val_accuracy: 0.9313\n",
            "Epoch 108/120\n",
            "469/469 [==============================] - 4s 8ms/step - loss: 0.0901 - accuracy: 0.9661 - val_loss: 0.2510 - val_accuracy: 0.9324\n",
            "Epoch 109/120\n",
            "469/469 [==============================] - 4s 8ms/step - loss: 0.0912 - accuracy: 0.9646 - val_loss: 0.2953 - val_accuracy: 0.9196\n",
            "Epoch 110/120\n",
            "469/469 [==============================] - 4s 8ms/step - loss: 0.0923 - accuracy: 0.9650 - val_loss: 0.2235 - val_accuracy: 0.9361\n",
            "Epoch 111/120\n",
            "469/469 [==============================] - 4s 8ms/step - loss: 0.0896 - accuracy: 0.9656 - val_loss: 0.2364 - val_accuracy: 0.9360\n",
            "Epoch 112/120\n",
            "469/469 [==============================] - 4s 8ms/step - loss: 0.0893 - accuracy: 0.9656 - val_loss: 0.2315 - val_accuracy: 0.9343\n",
            "Epoch 113/120\n",
            "469/469 [==============================] - 4s 8ms/step - loss: 0.0886 - accuracy: 0.9664 - val_loss: 0.2351 - val_accuracy: 0.9348\n",
            "Epoch 114/120\n",
            "469/469 [==============================] - 4s 8ms/step - loss: 0.0895 - accuracy: 0.9662 - val_loss: 0.2432 - val_accuracy: 0.9360\n",
            "Epoch 115/120\n",
            "469/469 [==============================] - 4s 8ms/step - loss: 0.0896 - accuracy: 0.9660 - val_loss: 0.2550 - val_accuracy: 0.9324\n",
            "Epoch 116/120\n",
            "469/469 [==============================] - 4s 8ms/step - loss: 0.0877 - accuracy: 0.9668 - val_loss: 0.2424 - val_accuracy: 0.9356\n",
            "Epoch 117/120\n",
            "469/469 [==============================] - 4s 8ms/step - loss: 0.0855 - accuracy: 0.9676 - val_loss: 0.2346 - val_accuracy: 0.9340\n",
            "Epoch 118/120\n",
            "469/469 [==============================] - 4s 8ms/step - loss: 0.0890 - accuracy: 0.9657 - val_loss: 0.2636 - val_accuracy: 0.9307\n",
            "Epoch 119/120\n",
            "469/469 [==============================] - 4s 8ms/step - loss: 0.0871 - accuracy: 0.9659 - val_loss: 0.2398 - val_accuracy: 0.9344\n",
            "Epoch 120/120\n",
            "469/469 [==============================] - 4s 8ms/step - loss: 0.0858 - accuracy: 0.9686 - val_loss: 0.2503 - val_accuracy: 0.9338\n"
          ]
        }
      ]
    },
    {
      "cell_type": "markdown",
      "source": [
        "## Evaluate the trained model"
      ],
      "metadata": {
        "id": "bBWLIfLfDYdb"
      }
    },
    {
      "cell_type": "code",
      "source": [
        "model.summary()"
      ],
      "metadata": {
        "id": "HIAt8Q-CDchG",
        "colab": {
          "base_uri": "https://localhost:8080/"
        },
        "outputId": "1daddd1a-ef1c-42d6-b27e-9fadef7fc099"
      },
      "execution_count": 14,
      "outputs": [
        {
          "output_type": "stream",
          "name": "stdout",
          "text": [
            "Model: \"sequential_2\"\n",
            "_________________________________________________________________\n",
            "Layer (type)                 Output Shape              Param #   \n",
            "=================================================================\n",
            "conv2d_6 (Conv2D)            (None, 28, 28, 32)        320       \n",
            "_________________________________________________________________\n",
            "module_wrapper_3 (ModuleWrap (None, 28, 28, 32)        128       \n",
            "_________________________________________________________________\n",
            "max_pooling2d_4 (MaxPooling2 (None, 14, 14, 32)        0         \n",
            "_________________________________________________________________\n",
            "dropout_6 (Dropout)          (None, 14, 14, 32)        0         \n",
            "_________________________________________________________________\n",
            "conv2d_7 (Conv2D)            (None, 14, 14, 64)        18496     \n",
            "_________________________________________________________________\n",
            "module_wrapper_4 (ModuleWrap (None, 14, 14, 64)        256       \n",
            "_________________________________________________________________\n",
            "max_pooling2d_5 (MaxPooling2 (None, 7, 7, 64)          0         \n",
            "_________________________________________________________________\n",
            "dropout_7 (Dropout)          (None, 7, 7, 64)          0         \n",
            "_________________________________________________________________\n",
            "conv2d_8 (Conv2D)            (None, 5, 5, 128)         73856     \n",
            "_________________________________________________________________\n",
            "module_wrapper_5 (ModuleWrap (None, 5, 5, 128)         512       \n",
            "_________________________________________________________________\n",
            "flatten_2 (Flatten)          (None, 3200)              0         \n",
            "_________________________________________________________________\n",
            "dense_4 (Dense)              (None, 128)               409728    \n",
            "_________________________________________________________________\n",
            "dropout_8 (Dropout)          (None, 128)               0         \n",
            "_________________________________________________________________\n",
            "dense_5 (Dense)              (None, 10)                1290      \n",
            "=================================================================\n",
            "Total params: 504,586\n",
            "Trainable params: 504,138\n",
            "Non-trainable params: 448\n",
            "_________________________________________________________________\n"
          ]
        }
      ]
    },
    {
      "cell_type": "code",
      "source": [
        "plt.figure()\n",
        "plt.plot(np.arange(0,epocas),train_model.history[\"accuracy\"],label=\"train_acc\")\n",
        "plt.plot(np.arange(0,epocas),train_model.history[\"val_accuracy\"],label=\"val_acc\")\n",
        "plt.title(\"Training and Validation Accuracy\")\n",
        "plt.xlabel(\"Epoch\")\n",
        "plt.ylabel(\"Accuracy\")\n",
        "plt.legend()\n",
        "\n",
        "plt.figure()\n",
        "plt.plot(np.arange(0,epocas),train_model.history[\"loss\"],label=\"train_loss\") \n",
        "plt.plot(np.arange(0,epocas),train_model.history[\"val_loss\"],label=\"val_loss\")\n",
        "plt.title(\"Training and Validation Loss\")\n",
        "plt.xlabel(\"Epoch\")\n",
        "plt.ylabel(\"Loss\")\n",
        "plt.legend()"
      ],
      "metadata": {
        "id": "ujgkc35_Dcym",
        "colab": {
          "base_uri": "https://localhost:8080/",
          "height": 590
        },
        "outputId": "ff7e3d1b-53fd-4181-8fb9-341a9c7462d5"
      },
      "execution_count": 15,
      "outputs": [
        {
          "output_type": "execute_result",
          "data": {
            "text/plain": [
              "<matplotlib.legend.Legend at 0x7fb596f7d250>"
            ]
          },
          "metadata": {},
          "execution_count": 15
        },
        {
          "output_type": "display_data",
          "data": {
            "text/plain": [
              "<Figure size 432x288 with 1 Axes>"
            ],
            "image/png": "[encoded data removed]"
          },
          "metadata": {
            "needs_background": "light"
          }
        },
        {
          "output_type": "display_data",
          "data": {
            "text/plain": [
              "<Figure size 432x288 with 1 Axes>"
            ],
            "image/png": "[encoded data removed]"
          },
          "metadata": {
            "needs_background": "light"
          }
        }
      ]
    },
    {
      "cell_type": "code",
      "source": [
        "a = model.evaluate(x_test,y_test)\n",
        "print(\"Precisión: \", a[1])"
      ],
      "metadata": {
        "colab": {
          "base_uri": "https://localhost:8080/"
        },
        "id": "dIk079aabWur",
        "outputId": "12b24416-79ea-412e-d757-5548a3e767f9"
      },
      "execution_count": 20,
      "outputs": [
        {
          "output_type": "stream",
          "name": "stdout",
          "text": [
            "313/313 [==============================] - 1s 3ms/step - loss: 0.2503 - accuracy: 0.9338\n",
            "Precisión:  0.9337999820709229\n"
          ]
        }
      ]
    }
  ]
}
